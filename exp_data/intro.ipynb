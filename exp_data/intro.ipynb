{
 "cells": [
  {
   "cell_type": "markdown",
   "id": "8373c5bc-9f52-4738-8c55-2d4ba0aa2211",
   "metadata": {},
   "source": [
    "### Exploratory Data Analysis\n",
    "\n",
    "1. Sourcing\n",
    "2. Cleaning\n",
    "3. Univariate Analysis\n",
    "4. Segment Analysis\n",
    "5. Bivariate Analysis\n",
    "6. Derived Metrics\n"
   ]
  },
  {
   "cell_type": "markdown",
   "id": "5a39f8a7-2b5e-45bc-aa5d-79d71899afac",
   "metadata": {},
   "source": [
    "#### Types of Data\n",
    "\n",
    "1. Public\n",
    "2. Private"
   ]
  },
  {
   "cell_type": "code",
   "execution_count": null,
   "id": "8f2ab81b-7546-43ef-b98e-b59b4c4adcfa",
   "metadata": {},
   "outputs": [],
   "source": []
  }
 ],
 "metadata": {
  "kernelspec": {
   "display_name": "Python 3 (ipykernel)",
   "language": "python",
   "name": "python3"
  },
  "language_info": {
   "codemirror_mode": {
    "name": "ipython",
    "version": 3
   },
   "file_extension": ".py",
   "mimetype": "text/x-python",
   "name": "python",
   "nbconvert_exporter": "python",
   "pygments_lexer": "ipython3",
   "version": "3.8.9"
  }
 },
 "nbformat": 4,
 "nbformat_minor": 5
}
