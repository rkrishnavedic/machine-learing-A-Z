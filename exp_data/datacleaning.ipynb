{
 "cells": [
  {
   "cell_type": "markdown",
   "id": "b0b110b1-cf8e-4b5b-a0e2-8003b484ad16",
   "metadata": {},
   "source": [
    "### Data Cleaning\n",
    "\n",
    "1. Fix rows and columns\n",
    "2. Fix missing values\n",
    "3. Standardise the values\n",
    "4. Fix invalid values\n",
    "5. Filter data"
   ]
  },
  {
   "cell_type": "code",
   "execution_count": null,
   "id": "ec34aef9-6e2d-4727-b76f-d0dd1c2a4e5b",
   "metadata": {},
   "outputs": [],
   "source": []
  }
 ],
 "metadata": {
  "kernelspec": {
   "display_name": "Python 3 (ipykernel)",
   "language": "python",
   "name": "python3"
  },
  "language_info": {
   "codemirror_mode": {
    "name": "ipython",
    "version": 3
   },
   "file_extension": ".py",
   "mimetype": "text/x-python",
   "name": "python",
   "nbconvert_exporter": "python",
   "pygments_lexer": "ipython3",
   "version": "3.8.9"
  }
 },
 "nbformat": 4,
 "nbformat_minor": 5
}
